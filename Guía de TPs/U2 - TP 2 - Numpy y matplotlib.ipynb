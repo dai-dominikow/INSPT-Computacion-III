{
 "cells": [
  {
   "cell_type": "markdown",
   "metadata": {},
   "source": [
    "### TP 2, Computación III\n",
    "Carrera Física Aplicada, INSPT UTN<br>\n",
    "Daiana Dominikow. <br>"
   ]
  },
  {
   "cell_type": "markdown",
   "metadata": {
    "vscode": {
     "languageId": "latex"
    }
   },
   "source": [
    "Dada la siguiente lista de temperaturas mensuales mínimas  del periodo 1981-2010 en Nueva York<br>\n",
    "-  enero: -28\n",
    "-  febrero = -22\n",
    "-  marzo = -21\n",
    "-  abril = 9\n",
    "-  mayo = 25\n",
    "-  junio = 35\n",
    "-  julio = 40\n",
    "-  agosto = 34\n",
    "-  septiembre = 26\n",
    "-  octubre = 16\n",
    "-  noviembre = -11\n",
    "-  diciembre = -22\n",
    "\n",
    "Resolver las siguientes consignas:\n",
    "1.  Crear una lista python con los valores\n",
    "2.  Convertir esta lista en un array numpy\n",
    "3.  Plotear un gráfico scatterplot de las temperaturas mínimas para cada mes.\n",
    "4.  Pasar los valores a Celsius\n",
    "5.  Imprimir por pantalla en una sola línea 'La temperatura de mayo es de ....' con la temperatura obtenida del array a partir del índice\n",
    "6.  Imprimir por pantalla la lista de temperaturas de enero a junio\n",
    "7.  Ordenar valores de mayor a menor, tanto la lista python como el array numpy.\n",
    "8.  Obtener temperaturas máximas y mínimas, y en qué meses ( índices ) fueron registradas\n",
    "9.  Obtener la temperatura promedio de los meses primaverales\n"
   ]
  }
 ],
 "metadata": {
  "kernelspec": {
   "display_name": "Python 3",
   "language": "python",
   "name": "python3"
  },
  "language_info": {
   "codemirror_mode": {
    "name": "ipython",
    "version": 3
   },
   "file_extension": ".py",
   "mimetype": "text/x-python",
   "name": "python",
   "nbconvert_exporter": "python",
   "pygments_lexer": "ipython3",
   "version": "3.11.2"
  }
 },
 "nbformat": 4,
 "nbformat_minor": 2
}
