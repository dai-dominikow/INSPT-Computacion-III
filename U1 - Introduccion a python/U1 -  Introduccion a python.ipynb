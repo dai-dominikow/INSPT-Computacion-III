{
 "cells": [
  {
   "cell_type": "markdown",
   "metadata": {},
   "source": [
    "### Unidad 1, Computación III\n",
    "# Introducción a Python, Jupyter Notebooks.\n",
    "Carrera Física Aplicada, INSPT UTN<br>\n",
    "Daiana Dominikow."
   ]
  },
  {
   "cell_type": "markdown",
   "metadata": {},
   "source": [
    "Los <b>Jupyter Notebooks</b>, de extensión $.ipynb$ son aplicaciones de código abierto que permiten crear y compartir documentos con código, anotaciones, ecuaciones, visualizaciones. <br>\n",
    "\n",
    "Se utilizan para simulaciones numéricas, limpieza y transformación de datos, modelado estadístico, ciencia de datos y distintos entornos académicos, ya que su arquitectura permite una prolija documentación y ejecución del código en bloques, disminuyendo tiempos de procesamiento.<br>\n",
    "\n",
    "<b>Los Markdowns</b>, como esta celda en la que escribo, son bloques que permiten al usuario dar formato al documento con HTML, escribir texto plano, títulos, símbolos matemáticos, items, insetar imágenes, de manera muy sencilla. \n",
    "Permiten la escritura en \\LaTeX, habilitando la representacion de ecuaciones y  diferentes notaciones cientificas, como por ejemplo:\n",
    "\\begin{equation}\n",
    "U = \\frac{1}{2} k r^2\n",
    "\\end{equation}\n",
    "\n",
    "<b>Los bloques de código</b> en Jupyter Notebook permiten escribir código ejecutable individualmente, pueden estar delimitados por markdowns que incluyan documentación de procedimientos o aclaraciones, o simplemente dividir en trozos el código, por ejemplo dividir en bloques  la importación de librerías y la declaración de funciones que no van a ser modificadas una vez ejecutadas, y por otro lado el llamado a estas funciones y operaciones ad hoc que vayan surgiendo a medida que se desarrolle el programa.\n",
    "<br>\n",
    "\n",
    "#### Vamos con un repaso de lo básico"
   ]
  },
  {
   "cell_type": "code",
   "execution_count": 1,
   "metadata": {},
   "outputs": [],
   "source": [
    "# esto es un ejemplo de comentario en un bloque de código\n",
    "\n",
    "# asignación de variables\n",
    "r = 10\n",
    "k = 0.1"
   ]
  },
  {
   "cell_type": "code",
   "execution_count": 2,
   "metadata": {},
   "outputs": [
    {
     "name": "stdout",
     "output_type": "stream",
     "text": [
      "10\n"
     ]
    }
   ],
   "source": [
    "#imprimir por pantalla\n",
    "print(r)"
   ]
  },
  {
   "cell_type": "code",
   "execution_count": 3,
   "metadata": {},
   "outputs": [],
   "source": [
    "# definir una función\n",
    "def U(r,k):\n",
    "    return 0.5 * k * r**2\n",
    "\n",
    "u = U(r,k)"
   ]
  },
  {
   "cell_type": "code",
   "execution_count": 4,
   "metadata": {},
   "outputs": [
    {
     "name": "stdout",
     "output_type": "stream",
     "text": [
      "La energía potencial es igual a 5.0J\n"
     ]
    }
   ],
   "source": [
    "# imprimir una cadena de texto concatenando un valor\n",
    "print(f'La energía potencial es igual a {str(u)}J')"
   ]
  },
  {
   "cell_type": "code",
   "execution_count": 5,
   "metadata": {},
   "outputs": [
    {
     "name": "stdout",
     "output_type": "stream",
     "text": [
      "La energía potencial es mayor a 5 J pero menor a 10 J\n"
     ]
    }
   ],
   "source": [
    "# estructuras condicionales\n",
    "if u >=10:\n",
    "    print('La energía potencial es mayor a 10 J')\n",
    "elif u >=5:\n",
    "    print('La energía potencial es mayor a 5 J pero menor a 10 J')\n",
    "else:\n",
    "    print('La energía potencial es menor a 5 J')"
   ]
  },
  {
   "cell_type": "code",
   "execution_count": 7,
   "metadata": {},
   "outputs": [
    {
     "name": "stdout",
     "output_type": "stream",
     "text": [
      "imprimo secuencia usando while: 0\n",
      "imprimo secuencia usando while: 1\n",
      "imprimo secuencia usando while: 2\n",
      "imprimo secuencia usando while: 3\n",
      "imprimo secuencia usando while: 4\n",
      "imprimo secuencia usando while: 5\n",
      "imprimo secuencia usando while: 6\n",
      "imprimo secuencia usando while: 7\n",
      "imprimo secuencia usando while: 8\n",
      "imprimo secuencia usando while: 9\n",
      "imprimo secuencia usando for: 0\n",
      "imprimo secuencia usando for: 1\n",
      "imprimo secuencia usando for: 2\n",
      "imprimo secuencia usando for: 3\n",
      "imprimo secuencia usando for: 4\n",
      "imprimo secuencia usando for: 5\n",
      "imprimo secuencia usando for: 6\n",
      "imprimo secuencia usando for: 7\n",
      "imprimo secuencia usando for: 8\n",
      "imprimo secuencia usando for: 9\n"
     ]
    }
   ],
   "source": [
    "# estructuras repetitivas: imprimir numeros naturales menores o iguales a 10\n",
    "   \n",
    "i = 0 \n",
    "while i<10:\n",
    "    print(f'imprimo secuencia usando while: {i}')\n",
    "    i+=1 \n",
    "\n",
    "for i in range(10):\n",
    "    print(f'imprimo secuencia usando for: {i}')\n",
    "\n"
   ]
  }
 ],
 "metadata": {
  "kernelspec": {
   "display_name": "base",
   "language": "python",
   "name": "python3"
  },
  "language_info": {
   "codemirror_mode": {
    "name": "ipython",
    "version": 3
   },
   "file_extension": ".py",
   "mimetype": "text/x-python",
   "name": "python",
   "nbconvert_exporter": "python",
   "pygments_lexer": "ipython3",
   "version": "3.10.9"
  }
 },
 "nbformat": 4,
 "nbformat_minor": 2
}
