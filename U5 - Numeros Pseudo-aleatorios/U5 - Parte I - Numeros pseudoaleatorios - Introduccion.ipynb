{
 "cells": [
  {
   "cell_type": "markdown",
   "metadata": {},
   "source": [
    "### Unidad 5, Parte I - Computación III\n",
    "Carrera Física Aplicada, INSPT UTN<br>\n",
    "Daiana Dominikow."
   ]
  },
  {
   "cell_type": "markdown",
   "metadata": {},
   "source": [
    "## Clase 1: Números Pseudo - Aleatorios\n",
    "Según Wikipedia, el santo Grial del conocimiento, un número aleatorio es el resultado de una combinación variable al azar que viene dada de una función de distribución.<br>\n",
    "Pero en la computadora generar un número que sea totalmente aleatorio no es posible, ya que es una máquina determinística, es decir, dado un mismo input vamos a recibir el mismo resultado, y si las condiciones iniciales que pasamos como input se modifican, el resultado también lo hará.<br>\n",
    "Pero no todo es una tragedia! podemos trabajar con números *pseudoaleatorios* gracias a bibliotecas que facilitan la utilización de algoritmos que pueden devolver distribuciones uniformes de números entre cero y uno, a partir de operaciones matemáticas tras bambalinas que logran determinado fin a partir de una semilla.<br>\n",
    "Ésta última es un número utilizado para inicializar un generador de números pseudoaleatorios, la semilla no necesariamente debe ser un número aleatorio, aunque determina una secuencia de numeros pseudoaleatorios. En criollo: la misma semilla vá a generara la misma secuencia de números pseudoaleatorios over and over....<br>\n",
    "Toda este palabrerío se puede resolver sencillamente en Python, que permite pasar una semilla para generar números pseudoaleatorios aunque de manera predeterminada puede inicializarla<br>\n"
   ]
  },
  {
   "cell_type": "code",
   "execution_count": 15,
   "metadata": {},
   "outputs": [],
   "source": [
    "#iniciamos importando las bibliotecas de siempre que vamos a utilizar\n",
    "import numpy as np\n",
    "import matplotlib.pyplot as plt\n",
    "from datetime import datetime as dt"
   ]
  },
  {
   "cell_type": "markdown",
   "metadata": {},
   "source": [
    "#### Cómo generamos un número random entre 0 y 1?\n",
    "Lo hermoso de Numpy, es que nos permite trabajar con números únicos o con arreglos de números, para esto existe la función random() de la clase del mismo nombre.<br>\n",
    "Si no le pasamos un argumento a esta función, nos vá a devolver un número único entre $[0 y 1)$.<br>\n",
    "OJO que nunca va a devolver 1, vá a llegar a 0.999999999, pero no incluye al número. (tener este dato en cuenta para el primer ejercicio)<br>"
   ]
  },
  {
   "cell_type": "code",
   "execution_count": 22,
   "metadata": {},
   "outputs": [
    {
     "data": {
      "text/plain": [
       "0.6201313098768588"
      ]
     },
     "execution_count": 22,
     "metadata": {},
     "output_type": "execute_result"
    }
   ],
   "source": [
    "np.random.random()"
   ]
  },
  {
   "cell_type": "markdown",
   "metadata": {},
   "source": [
    "Pero si queremos un vector de 'n' números random, basta con pasarle por argumento la cantidad 'n' de índices que queremos tenga nuestro vector"
   ]
  },
  {
   "cell_type": "code",
   "execution_count": 23,
   "metadata": {},
   "outputs": [
    {
     "data": {
      "text/plain": [
       "array([0.05389022, 0.96065406, 0.98042937, 0.52112765, 0.63655334,\n",
       "       0.76475695, 0.76495529, 0.41768558, 0.76880531, 0.42320175,\n",
       "       0.92610357, 0.68192648, 0.36845559, 0.85890986, 0.38049568,\n",
       "       0.09495426, 0.32489071, 0.41511219, 0.74227395, 0.65790887,\n",
       "       0.20131683, 0.80848791, 0.78640244, 0.39493964, 0.51061623])"
      ]
     },
     "execution_count": 23,
     "metadata": {},
     "output_type": "execute_result"
    }
   ],
   "source": [
    "n = 25\n",
    "np.random.random(n)"
   ]
  },
  {
   "cell_type": "markdown",
   "metadata": {},
   "source": [
    "### La semilla\n",
    "Al principio de la ejecución, en general es cuando se setea la semilla que dará lugar a la secuencia de números pseudoaleatoreos. <br>\n",
    "Durante nuestra ejecución, si llamamos varias veces a la función, veremos distintos números random, aunque sabiendo la semilla, la secuencia en la que estos se generan puede ser totalmente predecible.<br>"
   ]
  },
  {
   "cell_type": "code",
   "execution_count": 16,
   "metadata": {},
   "outputs": [
    {
     "name": "stdout",
     "output_type": "stream",
     "text": [
      "primer llamado\n",
      "[0.37454012 0.95071431 0.73199394 0.59865848 0.15601864]\n",
      "segundo llamado\n",
      "[0.15599452 0.05808361 0.86617615 0.60111501 0.70807258]\n",
      "tercer llamado\n",
      "[0.02058449 0.96990985 0.83244264 0.21233911 0.18182497]\n"
     ]
    }
   ],
   "source": [
    "#por ejemplo\n",
    "np.random.seed(42)\n",
    "print('primer llamado')\n",
    "print(np.random.random(5))\n",
    "\n",
    "print('segundo llamado')\n",
    "print(np.random.random(5))\n",
    "\n",
    "print('tercer llamado')\n",
    "print(np.random.random(5))"
   ]
  },
  {
   "cell_type": "code",
   "execution_count": 17,
   "metadata": {},
   "outputs": [
    {
     "name": "stdout",
     "output_type": "stream",
     "text": [
      "[0.37454012 0.95071431 0.73199394 0.59865848 0.15601864 0.15599452\n",
      " 0.05808361 0.86617615 0.60111501 0.70807258 0.02058449 0.96990985\n",
      " 0.83244264 0.21233911 0.18182497]\n"
     ]
    }
   ],
   "source": [
    "#si la inicializo de nuevo, e imprimo un vector de 15 numeros, veremos que sigue la secuencia impresa mas arriba\n",
    "np.random.seed(42)\n",
    "print(np.random.random(15))\n",
    "#fijense que va a devolver los 3 vectores del codigo anterior de corrido. Pruebenlo ustedes!"
   ]
  },
  {
   "cell_type": "markdown",
   "metadata": {},
   "source": [
    "Entonces, sabemos que si nosotros reseteamos la semilla en cada ejecución, el generador de números random siempre nos vá a devolver la misma secuencia de números.<br>"
   ]
  },
  {
   "cell_type": "code",
   "execution_count": 18,
   "metadata": {},
   "outputs": [
    {
     "name": "stdout",
     "output_type": "stream",
     "text": [
      "primer llamado\n",
      "[0.37454012 0.95071431 0.73199394 0.59865848 0.15601864]\n",
      "segundo llamado\n",
      "[0.37454012 0.95071431 0.73199394 0.59865848 0.15601864]\n",
      "tercer llamado\n",
      "[0.37454012 0.95071431 0.73199394 0.59865848 0.15601864]\n"
     ]
    }
   ],
   "source": [
    "#por ejemplo\n",
    "np.random.seed(42)\n",
    "print('primer llamado')\n",
    "print(np.random.random(5))\n",
    "\n",
    "np.random.seed(42)\n",
    "print('segundo llamado')\n",
    "print(np.random.random(5))\n",
    "\n",
    "np.random.seed(42)\n",
    "print('tercer llamado')\n",
    "print(np.random.random(5))"
   ]
  },
  {
   "cell_type": "markdown",
   "metadata": {},
   "source": [
    "### Buenas prácticas\n",
    "Una buena práctica a la hora de trabajar con números random es cambiar, de manera automática, la semilla que los genera.<br>\n",
    "Para esto existen múltiples métodos, siendo el mas sencillo inicializar el script con una semilla a partir del momento de ejecución, es decir, podemos agarrar los minutos y segundos de ejecución y a partir de ahí cada vez que ejecute el script la semilla irá cambiando.<br>"
   ]
  },
  {
   "cell_type": "code",
   "execution_count": 19,
   "metadata": {},
   "outputs": [
    {
     "name": "stdout",
     "output_type": "stream",
     "text": [
      "minuto:17, segundos: 25\n",
      "[0.37454012 0.95071431 0.73199394 0.59865848 0.15601864]\n"
     ]
    }
   ],
   "source": [
    "minutos = dt.now().minute\n",
    "segundos = dt.now().second\n",
    "print(f'minuto:{minutos}, segundos: {segundos}')\n",
    "\n",
    "#entonces inicializamos nuestra semilla con la suma de estos numeros en cada ejecución\n",
    "np.random.seed(minutos+segundos)\n",
    "print(np.random.random(5))"
   ]
  },
  {
   "cell_type": "code",
   "execution_count": 20,
   "metadata": {},
   "outputs": [],
   "source": [
    "#esto es para que mi ejecución banque un toque, para el ejemplo  :)\n",
    "import time\n",
    "time.sleep(10)"
   ]
  },
  {
   "cell_type": "code",
   "execution_count": 21,
   "metadata": {},
   "outputs": [
    {
     "name": "stdout",
     "output_type": "stream",
     "text": [
      "minuto:17, segundos: 35\n",
      "[0.82311034 0.02611798 0.21077064 0.61842177 0.09828447]\n"
     ]
    }
   ],
   "source": [
    "##vamos a repetirlo para probar el generador de semilla random a partir del minuto segundo de ejecución\n",
    "minutos = dt.now().minute\n",
    "segundos = dt.now().second\n",
    "print(f'minuto:{minutos}, segundos: {segundos}')\n",
    "np.random.seed(minutos+segundos)\n",
    "print(np.random.random(5))"
   ]
  },
  {
   "cell_type": "markdown",
   "metadata": {},
   "source": [
    "### Ahora... si quisiera un intervalo de números diferente? \n",
    "Por ejemplo, de cero a 10?<br>\n",
    "Bueno, para esto basta con multiplicar nuestro número random por 10, tan sencillo como "
   ]
  },
  {
   "cell_type": "code",
   "execution_count": 24,
   "metadata": {},
   "outputs": [
    {
     "data": {
      "text/plain": [
       "array([7.96159542, 4.45377496, 7.43066911, 0.78749073, 4.87645258,\n",
       "       4.34388645, 2.46057946, 8.61640718, 0.20022559, 4.5082671 ,\n",
       "       0.47422874, 4.97727496, 8.58774004, 3.34815656, 9.01590031,\n",
       "       1.22887554, 1.57433747, 7.87385292, 6.64939058, 7.20204172,\n",
       "       5.39255323, 4.71947454, 9.00687504, 3.74512511, 5.27786445])"
      ]
     },
     "execution_count": 24,
     "metadata": {},
     "output_type": "execute_result"
    }
   ],
   "source": [
    "np.random.random(n)*10"
   ]
  },
  {
   "cell_type": "markdown",
   "metadata": {},
   "source": [
    "#### Pero si quiero  (por ejemplo) un intervalo que vaya de 5 a 10, se nos complica un poco:<br>\n",
    "Primero debemos tener en cuenta que la función nos vá a devolver un valor entre 0 y 1, que debemos transformar a valores que vayan el 5 al 10<br>\n",
    "Ya vimos que si queremos que llegue hasta el 5, debemos multiplicar el valor que devuelve la función por aquella cota<br>\n",
    "En caso de que la función valga 0, nuestro número debería ser 5, así que a la función debemos sumarle 5<br>"
   ]
  },
  {
   "cell_type": "code",
   "execution_count": 25,
   "metadata": {},
   "outputs": [
    {
     "data": {
      "text/plain": [
       "array([8.47246712, 7.12784131, 8.1928834 , 7.97162342, 7.2714049 ,\n",
       "       9.57888208, 8.72033701, 9.64742901, 9.45588995, 6.60166603,\n",
       "       8.45013174, 5.29434039, 6.00891932, 8.61530883, 8.76004962,\n",
       "       6.47690564, 9.7922346 , 5.02181637, 6.7487107 , 5.98741185,\n",
       "       7.18794256, 9.64807834, 6.40122741, 7.1394195 , 7.32582481])"
      ]
     },
     "execution_count": 25,
     "metadata": {},
     "output_type": "execute_result"
    }
   ],
   "source": [
    "np.random.random(n) * 5 + 5"
   ]
  },
  {
   "cell_type": "markdown",
   "metadata": {},
   "source": [
    "### El algoritmo para cualquier distribución de números random lo podríamos escribir como<br>\n",
    "$random * (fin - inicio) + inicio$"
   ]
  },
  {
   "cell_type": "code",
   "execution_count": 26,
   "metadata": {},
   "outputs": [
    {
     "data": {
      "text/plain": [
       "array([ 1.42049526,  1.93754737, -0.08908974,  0.14681745,  1.12881833,\n",
       "        1.25930107, -1.41737946, -0.62708135,  0.78247961, -1.24712248,\n",
       "       -0.17830123,  1.88169232,  1.97738316,  1.00203351,  0.04915558,\n",
       "        0.05908935, -1.72331147,  1.88472946,  1.81928163,  1.12006522,\n",
       "        1.39397854, -0.40253718,  1.18769543, -1.92931714, -1.33022498])"
      ]
     },
     "execution_count": 26,
     "metadata": {},
     "output_type": "execute_result"
    }
   ],
   "source": [
    "#ejemplo, quiero una distribución entre -2 y 2\n",
    "inicio = -2\n",
    "fin = 2\n",
    "np.random.random(n) * ( fin - inicio ) + inicio "
   ]
  },
  {
   "cell_type": "markdown",
   "metadata": {},
   "source": [
    "#### Empecemos entonces con la práctica de números aleatorios  (TP 6) para entender un poco de que se trata todo esto<br>\n"
   ]
  },
  {
   "cell_type": "markdown",
   "metadata": {},
   "source": [
    "## Consignas TP 6: números peudoaleatoreos, Parte I.\n",
    "0. Cree dos vectores de 1000 números random entre -250 y 250, a continuación plotee una distribucion con los valores que obtuvo. Qué puede observar?<br><br>\n",
    "1. Calcule la probabilidad de obtener un número 'x' luego de 'n' veces de lanzar un dado, para ello guarde los valores de cada tirada en una lista, y cree una función que dada esa lista y el número a buscar, devuelva el % de veces que se obtuvo dicho número.<br>\n",
    "Por otro lado realice un histograma con los resultados, qué conclusiones puede sacar viendo dicho histograma a medida que varía 'n'?, pruebe con 100, 1000 y 10000 ejecuciones.<br>\n",
    "Para plotear el histograma utilice la función plt.hist(vector, bins = 48), donde bins es la cantidad de divisiones del histograma.<br>"
   ]
  }
 ],
 "metadata": {
  "kernelspec": {
   "display_name": "base",
   "language": "python",
   "name": "python3"
  },
  "language_info": {
   "codemirror_mode": {
    "name": "ipython",
    "version": 3
   },
   "file_extension": ".py",
   "mimetype": "text/x-python",
   "name": "python",
   "nbconvert_exporter": "python",
   "pygments_lexer": "ipython3",
   "version": "3.10.9"
  }
 },
 "nbformat": 4,
 "nbformat_minor": 2
}
