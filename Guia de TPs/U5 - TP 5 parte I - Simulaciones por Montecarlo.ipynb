{
 "cells": [
  {
   "cell_type": "markdown",
   "metadata": {},
   "source": [
    "## Consignas TP 5: números peudoaleatoreos, Simulaciones por Monte Carlo\n",
    "### 0. Cree dos vectores de 1000 números random entre -250 y 250, a continuación plotee una distribucion con los valores que obtuvo."
   ]
  },
  {
   "cell_type": "markdown",
   "metadata": {},
   "source": [
    "### 1. Calcule la probabilidad de obtener un número 'x' luego de 'n' veces de lanzar un dado, guarde los valores en una lista y realice un histograma con los resultados, qué conclusiones puede sacar a medida que varía 'n'?"
   ]
  },
  {
   "cell_type": "markdown",
   "metadata": {},
   "source": [
    "### 2. Determine la integral $\\int_0^4 x^{2} dx$ "
   ]
  },
  {
   "cell_type": "markdown",
   "metadata": {},
   "source": [
    "### 3. Calcule el valor de $\\pi$<br><br>\n",
    "\n",
    "Para estimar este valor, recordemos el ejercicio $0$, donde les pedí hagan un gráfico de distribución. Ven que les devolvió un ploteo cuadrado también? bueno, vamos a utilizar esto para crear un círculo dentro de este cuadrado, y ver  a partir de la relación entre estas superficies y los puntos generados pseudoaleatoreamente como obtener el valor de $\\pi$."
   ]
  },
  {
   "cell_type": "markdown",
   "metadata": {},
   "source": [
    "### 4. Calcule la integral de la distribucion de la campana de Gauss.\n",
    "Al ser una función simétrica, se puede calcular la integral entre 0 e infinito.<br>\n",
    "Tener en cuenta que el infinito no existe en computación. Limite bien el rectángulo dentro del cuál generará los números aleatorios.<br>\n",
    "$\\int_{-\\infty}^{\\infty}e^{-x^{2}}dx = \\sqrt{\\pi}$"
   ]
  },
  {
   "cell_type": "markdown",
   "metadata": {},
   "source": [
    "### 5. Random Walk\n",
    "En física, los caminos aleatorios, o 'random walks', son utilizados como modelos simplificados del movimiento browniano y difusión tales como el movimiento aleatorio de las moléculas en líquidos y gases. Además, los caminos aleatorios y algunos de los caminos que interactúan consigo mismos juegan un papel en la teoría cuántica de campos.<br><br> \n",
    "Para introducir el tema, podríamos simular la siguiente situación:  <br>\n",
    "Supongamos que salimos a caminar, y que aleatoreamente en cada esquina decidimos en qué dirección queremos avanzar. Al cabo de varias 'esquinas', vemos a cuantas cuadras estamos de casa, si estamos a mas de 4 cuadras nos vamos a tomar el bondi para volver, estamos cansados, sino volvemos a pie.<br>\n",
    "La pregunta entonces es. Cual es la caminata aleatoria máxima (cuantas cuadras máx) que podemos tomar entre 10 y 30 tal que en promedio siempre termine a menos de 4 cuadras?.<br><br>\n",
    "Analizar gráficamente, punto extra si se animan a guardar los resultados en un dataframe y determinar con lo visto en la unidad 5 cual es la mayor cantidad de cuadras que podemos hacer que en promedio nos devuelva que volvemos caminando ;)\n"
   ]
  },
  {
   "cell_type": "markdown",
   "metadata": {},
   "source": [
    "### 6. Calcule el volumen de 1/8 de esfera \n",
    "de radio $r = 4m $ y $ z = \\int_0^R \\int_0^R \\sqrt{R^{2}-x^{2}+y^{2}}dxdy $<br><br>\n",
    "Para validar esta integral, tenga en cuenta que el volumen de 1/8 de esfera es <br><br>\n",
    "$volumen =\\frac{4}{3}\\frac{\\pi R^{3}}{8}$\n"
   ]
  },
  {
   "cell_type": "markdown",
   "metadata": {},
   "source": [
    "### 7. Momento de incercia de un cilindro respecto al eje z - Modelo por MonteCarlo\n",
    "Dado un sistema de partículas y un eje arbitrario, el momento de inercia del mismo se define como la suma de los productos de las masas de las partículas por el cuadrado de la distancia mínima r de cada partícula a dicho eje. <br><br>\n",
    "$I = \\sum m_ir_i^{2}$<br><br>\n",
    "Para obtener el momento de incercia de un cilindro, como ser el del primer TP de Labo 1,  podemos hacer la triple integral en coordenadas  que aquí omitiremos y nos vá a devolver la fórmula<br> <br>\n",
    "$I = \\frac{1}{2} M R^{2}$<br><br>\n",
    "Supongamos entonces que tenemos un cilindro de radio $r = 1 cm$, altura $h = 1 cm$, y masa $m = 20g$<br>\n",
    "Se anima a encontrar su momento de incercia mediante el método de MonteCarlo?<br> \n",
    "Itere unas 50, 100 y 1200 veces, compare contra los resultados teóricos.<br>\n"
   ]
  }
 ],
 "metadata": {
  "kernelspec": {
   "display_name": "base",
   "language": "python",
   "name": "python3"
  },
  "language_info": {
   "codemirror_mode": {
    "name": "ipython",
    "version": 3
   },
   "file_extension": ".py",
   "mimetype": "text/x-python",
   "name": "python",
   "nbconvert_exporter": "python",
   "pygments_lexer": "ipython3",
   "version": "3.10.12"
  }
 },
 "nbformat": 4,
 "nbformat_minor": 2
}
