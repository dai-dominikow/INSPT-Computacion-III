{
 "cells": [
  {
   "cell_type": "markdown",
   "metadata": {},
   "source": [
    "# Dinámica no lineal: La teoría del caos\n",
    "<i> Daiana Dominikow - 2025 </i>\n",
    "\n",
    "La primera investigación del caos vino de la mano del meteorólogo Edward Lorentz, quien en 1960 utilizaba un modelo matemático para predecir ciertas condiciones climáticas y la convección térmica de los fluídos . Su modelo consistía de un sistema de ecuaciones no lineales calculados por computadora.\n",
    "\n",
    "En una oportunidad quizo repetir una medición cambiando las cifras significativas de los parámetros que le pasaba a su sistema de ecuaciones, y notó que su modelo no se comportaba como hubiese esperado. Sus resultados dependían en gran medida de la exactitud de sus parámetros, lo que denominó Teoria del caos.\n",
    "\n",
    "Lorentz ya no podía predecir con exactitud el comportamiento de un sistema  ya que todas sus mediciones se verían afectadas por errores de calibración de sus intrumentos dando a desconocer las condiciones iniciales absolutas del sistema, a partir de ésto estudió el comportamiento caótico \n",
    "<center><img src=\"./resources/Lorentz.png\" width=\"400\" height=\"280\" ></center>\n",
    "\n",
    "Para que un sistema se considere caótico, debe: \n",
    "\n",
    "- Ser determinista, es decir, no es azaroso, sino que seguirá el mismo patrón dadas las mismas exactas condiciones iniciales \n",
    "- Involucrar mas de 3 variables \n",
    "- Ser irregular en el tiempo, y dado su carácter no lineal no puede ser la superposición de movimientos periódicos\n",
    "- Ser imprevisible a largo plazo y sensible a las condiciones iniciales\n",
    "- Su retrato de fases está formado por fractales complicados \n",
    "\n",
    "\n"
   ]
  },
  {
   "cell_type": "markdown",
   "metadata": {},
   "source": [
    "\n",
    "### Ejercicio 1: Atractor de Rössler\n",
    "\n",
    "Originalmente estudiado por el bioquímico  Otto Rössler en los 70s, el atractor es el resultado de un sistema de ecuaciones diferenciales dos lineales y una no lineal, continuas y dependientes del tiempo, que exhiben una dinámica caótica asociada a las propiedades fractales del atractor.Se caracteriza por su densidad de órbitas caóticas en torno a un punto fijo, el centro del atractor.\n",
    "\n",
    "Este atractor estaba pensado para comportarse como el de Lorentz pero de manera mas sencilla de explicar y analizar, aunque actualmente se utiliza para modelar el equilibrio químico de ciertas reacciones donde las variables (parámetros) de las ecuaciones representan la concentracion de la sustancia.\n",
    "\n",
    "\\begin{equation} \n",
    "    \\begin{cases}\n",
    "        \\frac{\\partial x}{\\partial t} =  - y - z  \\\\\n",
    "        \\frac{\\partial y}{\\partial t} =  x + ay \\\\\n",
    "        \\frac{\\partial z}{\\partial t} =  b + z( x - c ) \\\\\n",
    "    \\end{cases}\n",
    "\\end{equation}\n",
    "\n",
    "1. Para la resolución de éstas diferenciales, utilizarán el método de Euler de primer orden.\n",
    "2. Graficar cortes (x,y) , (y,z) y (z,x) \n",
    "3. Graficar coordenadas en función del tiempo, velocidad en función del tiempo, retrato de fases para cada coordenada"
   ]
  }
 ],
 "metadata": {
  "kernelspec": {
   "display_name": "base",
   "language": "python",
   "name": "python3"
  },
  "language_info": {
   "codemirror_mode": {
    "name": "ipython",
    "version": 3
   },
   "file_extension": ".py",
   "mimetype": "text/x-python",
   "name": "python",
   "nbconvert_exporter": "python",
   "pygments_lexer": "ipython3",
   "version": "3.10.9"
  }
 },
 "nbformat": 4,
 "nbformat_minor": 2
}
