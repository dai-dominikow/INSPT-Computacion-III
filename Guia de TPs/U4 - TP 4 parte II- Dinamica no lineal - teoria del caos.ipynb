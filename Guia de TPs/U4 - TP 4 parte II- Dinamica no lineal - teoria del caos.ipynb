{
 "cells": [
  {
   "cell_type": "markdown",
   "metadata": {},
   "source": [
    "### Ejercicio 1,  sistema no lineal , oscilador de Van Del Pol\n",
    "Es un oscilador con amortiguamiento no lineal.<br>\n",
    "Su dinámica está dada por el siguiente sistema de ecuaciones:\n",
    "\\begin{equation}\n",
    "\\ddot{x}-\\mu(1-x^2)\\dot{x} + x = 0\n",
    "\\end{equation}\n",
    "Donde $\\mu$ es un parámetro escalar que gobierna la no linealidad de la ecuación. Si este vale 0, no hay amortiguamiento, y la ecuación queda como un oscilador armónico simple sin pérdida de energía. \n",
    "\\begin{equation}\n",
    "\\ddot{x} + x = 0\n",
    "\\end{equation}"
   ]
  },
  {
   "cell_type": "markdown",
   "metadata": {},
   "source": [
    "\n",
    "### Ejercicio 2, sistema caótico: Atractor de Rössler\n",
    "\n",
    "Originalmente estudiado por el bioquímico  Otto Rössler en los 70s, el atractor es el resultado de un sistema de ecuaciones diferenciales dos lineales y una no lineal, continuas y dependientes del tiempo, que exhiben una dinámica caótica asociada a las propiedades fractales del atractor.Se caracteriza por su densidad de órbitas caóticas en torno a un punto fijo, el centro del atractor.\n",
    "\n",
    "Este atractor estaba pensado para comportarse como el de Lorentz pero de manera mas sencilla de explicar y analizar, aunque actualmente se utiliza para modelar el equilibrio químico de ciertas reacciones donde las variables (parámetros) de las ecuaciones representan la concentracion de la sustancia.\n",
    "\n",
    "\\begin{equation} \n",
    "    \\begin{cases}\n",
    "        \\frac{\\partial x}{\\partial t} =  - y - z  \\\\\n",
    "        \\frac{\\partial y}{\\partial t} =  x + ay \\\\\n",
    "        \\frac{\\partial z}{\\partial t} =  b + z( x - c ) \\\\\n",
    "    \\end{cases}\n",
    "\\end{equation}\n",
    "\n",
    "1. Para la resolución de éstas diferenciales, utilizarán el método de Euler de primer orden.\n",
    "2. Graficar cortes (x,y) , (y,z) y (z,x) \n",
    "3. Graficar coordenadas en función del tiempo, velocidad en función del tiempo, retrato de fases para cada coordenada"
   ]
  }
 ],
 "metadata": {
  "kernelspec": {
   "display_name": "base",
   "language": "python",
   "name": "python3"
  },
  "language_info": {
   "codemirror_mode": {
    "name": "ipython",
    "version": 3
   },
   "file_extension": ".py",
   "mimetype": "text/x-python",
   "name": "python",
   "nbconvert_exporter": "python",
   "pygments_lexer": "ipython3",
   "version": "3.10.9"
  }
 },
 "nbformat": 4,
 "nbformat_minor": 2
}
