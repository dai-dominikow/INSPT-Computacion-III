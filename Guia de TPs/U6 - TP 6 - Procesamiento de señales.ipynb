{
 "cells": [
  {
   "cell_type": "markdown",
   "metadata": {},
   "source": [
    "## TP 6 - Procesamiento señales"
   ]
  },
  {
   "cell_type": "markdown",
   "metadata": {},
   "source": [
    "#### ejercicio 1: \n",
    "La función $f(t) = t$ entre $-\\pi$ y $\\pi$  de manera periódica, es decir que  el periodo $T = 2\\pi$ se denomina diente de sierra.<br>\n",
    "Calcular los coeficientes nos da <br>\n",
    "\\begin{equation}\n",
    "a_n \\,= \\,\\frac{1}{\\pi}\\int_{-\\pi}^{\\pi} x \\,\\cos{nx}\\, dx\\, =\\, 0\\, ,  n\\ >= 0\n",
    "\\end{equation}\n",
    "\n",
    "\\begin{equation}\n",
    "b_n \\,= \\,\\frac{1}{\\pi}\\int_{-\\pi}^{\\pi} x \\,\\sin{nx}\\, dx\\, =\\, -\\frac{2}{n}\\cos{n\\pi}\n",
    "\\end{equation}\n",
    "Por lo que la serie sería\n",
    "\\begin{equation}\n",
    "f(t)\\, = \\, \\sum_{n=1}^{N} - (2\\frac{\\cos{n\\pi}}{n} \\, \\sin{\\frac{2n\\pi}{2\\pi} t})\n",
    "\\end{equation}\n",
    "Graficar la funcion y realizar un programa que sume armónicos, graficar la función aproximada por la serie N = 100 armónicos."
   ]
  },
  {
   "cell_type": "markdown",
   "metadata": {},
   "source": [
    "#### Ejercicio 2\n",
    "Cargar en diferentes vectores una señal senoidal de 5 Hz y 3 segundos de duración con frecuencias de muestreo de 10 Hz (lo mínimo necesario según el teorema), 100 Hz y una frecuencia de muestreo menor 10 Hz. Graficarlos (en gráficos distintos) y discutirlo con compañerxs y docente.\n"
   ]
  },
  {
   "cell_type": "markdown",
   "metadata": {},
   "source": [
    "#### Ejercicio 3\n",
    "Crear una señal sumando varias funciones senoidales con distintas frecuencias. Transformarla y analizar el espectro.\n",
    "Nota: las frecuencias son unidimensionales."
   ]
  },
  {
   "cell_type": "markdown",
   "metadata": {},
   "source": [
    "#### Ejercicio 4\n",
    "Agregar ruido aleatoreo a la señal. Analizar el espectro."
   ]
  },
  {
   "cell_type": "markdown",
   "metadata": {},
   "source": [
    "#### Ejercicio 5\n",
    "Realizar un filtro para el ruido de la señal operando sobre el espectro, realizar la antitransformada de Fourier (irfft(s)) para recuperar la señal sin ruido, graficar y comparar.\n"
   ]
  }
 ],
 "metadata": {
  "kernelspec": {
   "display_name": "Python 3",
   "language": "python",
   "name": "python3"
  },
  "language_info": {
   "codemirror_mode": {
    "name": "ipython",
    "version": 3
   },
   "file_extension": ".py",
   "mimetype": "text/x-python",
   "name": "python",
   "nbconvert_exporter": "python",
   "pygments_lexer": "ipython3",
   "version": "3.10.9"
  }
 },
 "nbformat": 4,
 "nbformat_minor": 2
}
