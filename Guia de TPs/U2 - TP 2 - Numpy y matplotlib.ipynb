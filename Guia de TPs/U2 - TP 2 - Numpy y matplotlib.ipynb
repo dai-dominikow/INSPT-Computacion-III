{
 "cells": [
  {
   "cell_type": "markdown",
   "metadata": {},
   "source": [
    "### TP 2, Computación III\n",
    "Carrera Física Aplicada, INSPT UTN<br>\n",
    "Daiana Dominikow. <br>"
   ]
  },
  {
   "cell_type": "markdown",
   "metadata": {
    "vscode": {
     "languageId": "latex"
    }
   },
   "source": [
    "### Ejercicio 1: Aprendiendo Numpy\n",
    "\n",
    "Dada la siguiente lista de temperaturas mensuales mínimas  del periodo 1981-2010 en Nueva York<br>\n",
    "-  enero: -28\n",
    "-  febrero = -22\n",
    "-  marzo = -21\n",
    "-  abril = 9\n",
    "-  mayo = 25\n",
    "-  junio = 35\n",
    "-  julio = 40\n",
    "-  agosto = 34\n",
    "-  septiembre = 26\n",
    "-  octubre = 16\n",
    "-  noviembre = -11\n",
    "-  diciembre = -22\n",
    "\n",
    "Resolver las siguientes consignas:\n",
    "1.  Crear una lista python con los valores\n",
    "2.  Convertir esta lista en un array numpy\n",
    "3.  Plotear un gráfico scatterplot de las temperaturas mínimas para cada mes.\n",
    "4.  Pasar los valores a Celsius\n",
    "5.  Imprimir por pantalla en una sola línea 'La temperatura de mayo es de ....' con la temperatura obtenida del array a partir del índice\n",
    "6.  Imprimir por pantalla la lista de temperaturas de enero a junio\n",
    "7.  Ordenar valores de mayor a menor, tanto la lista python como el array numpy.\n",
    "8.  Obtener temperaturas máximas y mínimas, y en qué meses ( índices ) fueron registradas\n",
    "9.  Obtener la temperatura promedio de los meses primaverales\n"
   ]
  },
  {
   "cell_type": "markdown",
   "metadata": {},
   "source": [
    "### Ejercicio 2\n",
    "\n",
    "Realizar un programa que grafique para una carga ubicada en el origen el potencial eléctrico que genera en sus cercanías en función de r.<br>\n",
    "Deben crear un vector con un intervalo de distancias al origen y pasarlo por la función para luego graficarlos :) <br> \n",
    "\n",
    "\\begin{equation}\n",
    "V(r) = \\frac{Q}{4\\pi \\epsilon_0 r}\n",
    "\\end{equation}"
   ]
  },
  {
   "cell_type": "markdown",
   "metadata": {},
   "source": [
    "### Ejercicio 3, para practicar anidado de funciones\n",
    "1.   Realizar una función que reciba la cantidad de grados en celsius y los devuelva en elvin \n",
    "2.  Realizar una función que reciba por parámetro la presión, temperatura inicial y temperatura final de un gas en grados celsius ( y llame a la función que los devuelve en kelvin anidada) y devuelva la presión final suponiendo un volumen y cantidad de gas constante (isométrico).\n",
    "3.  Finalmente, realizar una función similar a la anterior que devuelva el volumen final de un gas suponiendo presión constante (isobárico).\n",
    "4. Utilice dichas funciones para graficar dos procesos termodinámicos"
   ]
  },
  {
   "cell_type": "markdown",
   "metadata": {},
   "source": [
    "### Ejercicio 4: Difracción de una sola rendija.\n",
    "\n",
    "Realizar una gráfica de la intensidad de la luz difractada que alcanza la pantalla. Para ello se deberán realizar dos funciones.<br>\n",
    "La intensidad de luz en cada parte de la pantalla en función del parámetro beta se describe como:\n",
    "\\begin{equation}\n",
    "I = I_{max}[\\frac{\\sin{\\frac{\\beta}{2}}}{\\frac{\\beta}{2}}]²\n",
    "\\end{equation}\n",
    "\n",
    "El parámetro beta se puede definir a partir del ángulo theta(en radianes podemos ver varias series de máximos de acuerdo a la cantidad de ciclos que evaluemos), a la longitud de onda de la luz y al ancho de la rendija a.<br>\n",
    "Un buen conjunto de parámetros puede ser $\\lambda = 650nm$, y $a = 2\\mu m$.\n",
    "\\begin{equation}\n",
    "\\beta = \\frac{2\\pi}{\\lambda} a \\sin(\\theta)\n",
    "\\end{equation}\n",
    "\n",
    "\n",
    "1.  Realizar el plot para $I(\\theta)$ y para $I(\\beta /2)$, para ello guarde en arreglos numpy un rango de alores.\n",
    "2.  Realizar el plot para la difracción con dos rendijas iguales separadas entre sí por una distancia $d$.\n",
    "Esta función no es más que la difracción con una rendija modulada por la interferencia entre dos rendijas.\n",
    "\\begin{equation}\n",
    "I = I_{1rendija}\\cos²(\\frac{\\pi d \\sin(\\theta)}{\\lambda})\n",
    "\\end{equation}"
   ]
  }
 ],
 "metadata": {
  "kernelspec": {
   "display_name": "Python 3",
   "language": "python",
   "name": "python3"
  },
  "language_info": {
   "codemirror_mode": {
    "name": "ipython",
    "version": 3
   },
   "file_extension": ".py",
   "mimetype": "text/x-python",
   "name": "python",
   "nbconvert_exporter": "python",
   "pygments_lexer": "ipython3",
   "version": "3.11.2"
  }
 },
 "nbformat": 4,
 "nbformat_minor": 2
}
