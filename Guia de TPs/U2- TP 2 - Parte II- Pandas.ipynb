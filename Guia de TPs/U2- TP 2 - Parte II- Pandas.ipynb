{
 "cells": [
  {
   "cell_type": "markdown",
   "metadata": {},
   "source": [
    "## Consigna 1:\n",
    "La posición de una masa enganchada a un resorte responde a la ecuación de oscilación amortiguada: <br>\n",
    "$ x(t) = 0.0502 e^{-t} \\cos{(9.95 t - 0.0997)}$<br>\n",
    "Crear un dataframe pandas con la posición y el tiempo de la masa<br>\n",
    "Agregar dos columnas: con el resultado obtenido de determinar su velocidad y su aceleración <br>\n",
    "Plotear un gráfico con la velocidad en función del tiempo."
   ]
  },
  {
   "cell_type": "markdown",
   "metadata": {},
   "source": [
    "## Consigna 2:\n",
    "Levantar el archivo del campus virtual llamado serie_tiempo_temperatura.csv<br>\n",
    "Hacer un paneo general del dataset para ver el nombre de las columnas y de qué se trata la información, de ser necesario, considerar una conversión de unidades.<br>\n",
    "Con el dataframe inicial, crear un scatter plot para ver a distribución de la temperatura Argentina y los países vecinos que contenga el dataset \n",
    "Por otro lado, y con todo lo aprendido, plotear en el mismo gráfico la temperatura máxima y mínima alcanzada cada año.<br>\n",
    "(pssss: de ser necesario, ir creando otros dataframe temporales agrupando y filtrando las columnas que necesite, analizando previamente qué valores únicos contiene.)<br>"
   ]
  }
 ],
 "metadata": {
  "kernelspec": {
   "display_name": "base",
   "language": "python",
   "name": "python3"
  },
  "language_info": {
   "codemirror_mode": {
    "name": "ipython",
    "version": 3
   },
   "file_extension": ".py",
   "mimetype": "text/x-python",
   "name": "python",
   "nbconvert_exporter": "python",
   "pygments_lexer": "ipython3",
   "version": "3.9.7"
  }
 },
 "nbformat": 4,
 "nbformat_minor": 2
}
