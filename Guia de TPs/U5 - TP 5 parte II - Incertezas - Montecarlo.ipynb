{
 "cells": [
  {
   "cell_type": "markdown",
   "metadata": {},
   "source": [
    "## 1. Cotas de errores\n",
    "Una masa “puntual” se desplaza con una velocidad inicial desconocida durante un cierto tiempo hasta que se detiene. Suponiendo que se pueden medir la distancia recorrida Δx, el coeficiente de rozamiento μ, y la masa m del objeto, todos con sus incertezas asociadas, determinar mediante montecarlo las cotas máximas y mínimas de incerteza y la velocidad inicial a la que se dirigía el móvil y el tiempo que tardó en detenerse.<br>\n",
    "Considere $ v^2 - v_{0}^2 = 2 a \\Delta x$, $ N = P $, $P = m g$ y $F_r = \\mu N$, de forma que reemplazando todo, la expresión de la velocidad inicial sea $ v_0 = \\sqrt{2 \\Delta x \\mu g }$<br>\n",
    "Mediante estas expresiones, se puede determinar el tiempo de desplazamiento como $t = \\frac{\\sqrt{(2 \\Delta x \\mu g)}}{\\mu g} = \\sqrt{\\frac{2 \\Delta x}{\\mu g}}$<br>\n",
    "Utilizar $\\Delta x = 10 \\pm 1 m $ y $\\mu = 0.5 \\pm 0.1$<br>\n",
    "Con estas expresiones, propagar incertezas y comprobar validez por MonteCarlo"
   ]
  },
  {
   "cell_type": "markdown",
   "metadata": {},
   "source": [
    "##  2. Peugeot 504 vs Citroen IES\n",
    "leer 'Calculo de cotas de error en accidentología usando la técnica de MonteCarlo' de Ernesto Martinez. Instituto Balseiro. CNEA. 2003\n"
   ]
  }
 ],
 "metadata": {
  "kernelspec": {
   "display_name": "base",
   "language": "python",
   "name": "python3"
  },
  "language_info": {
   "codemirror_mode": {
    "name": "ipython",
    "version": 3
   },
   "file_extension": ".py",
   "mimetype": "text/x-python",
   "name": "python",
   "nbconvert_exporter": "python",
   "pygments_lexer": "ipython3",
   "version": "3.10.9"
  }
 },
 "nbformat": 4,
 "nbformat_minor": 2
}
