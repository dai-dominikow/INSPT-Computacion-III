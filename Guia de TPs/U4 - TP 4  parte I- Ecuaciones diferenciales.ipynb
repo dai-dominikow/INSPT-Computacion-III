{
 "cells": [
  {
   "cell_type": "markdown",
   "metadata": {},
   "source": [
    "### TP 4, Computación III\n",
    "Carrera Física Aplicada, INSPT UTN<br>\n",
    "Daiana Dominikow. <br>\n",
    "\n",
    "## Ecuaciones diferenciales\n",
    "### Ejercicio 1:\n",
    "Resolver la ecuación diferencial correspondiente al decaimiento radioactivo de 1g de radio 226.<br>\n",
    "Esto es aproximadamente $2.66x10^{21}$ átomos y su ecuación diferencial puede representarse como <br>\n",
    "\\begin{equation}\n",
    "\\frac{dN}{dt} = \\lambda N\n",
    "\\end{equation}\n",
    "Donde la variable de estado N debe ser calculada en función a la N anterior. <br>\n",
    "Lo que podemos escribir como \n",
    "\\begin{equation}\n",
    "N_{t + dt} = N_t +\\lambda N_t \\Delta T\n",
    "\\end{equation}\n",
    "Siendo lambda la constante del decaimiento $\\lambda = -1.38x10^{-11}s^{-1}$, o la probabilidad de que un simple átomo decaiga en un segundo\n",
    "1.  Graficar N(t) usar incrementos de tiempo en años, tener en cuenta que la expresión $\\lambda$ está en segundos\n",
    "2.  Simular el decaimiento de 2g de radio, y encontrar el instante de tiempo aproximado donde solo queda 1g de radio (vida media, en años!!)\n",
    "\n"
   ]
  },
  {
   "cell_type": "markdown",
   "metadata": {},
   "source": [
    "### Ejercicio 2: \n",
    "-- comentario: LA PARTE 1 DE ESTE EJERCICIO LA HICIMOS COMO EJEMPLO EN CLASE!!---\n",
    "1.  Realizar un tiro vertical, o una caída libre con el método de Euler. Graficar y comparar resultados con los analíticos de la guía anterior.\n",
    "2.  Calcular y graficar la energía cinética, potencial y total en función del tiempo. Se conserva la energía?\n",
    "\n"
   ]
  },
  {
   "cell_type": "markdown",
   "metadata": {},
   "source": [
    "### Ejercicio 3\n",
    "Simular un tiro vertical con rozamiento, donde la fuerza en cada instante será $F = k v$ donde la velocidad es la variable de estado que cambia en cada instante y K el coeficiente que depende del fluído y forma del objeto ( parámetro )<br>\n",
    "1.  Calcular y graficar la energía cinética, potencial y total en función del tiempo.\n",
    "2.  Calcular el trabajo realizado por la fuerza de rozamiento. Para ello, en cada iteración calcular el desplazamiento y multiplicarlo por la fuerza de rozamiento viscoza ( como una integral )  y acumular resultados."
   ]
  },
  {
   "cell_type": "markdown",
   "metadata": {},
   "source": [
    "### Ejercicio 4\n",
    "Simularemos ahora una carga afectada por un campo eléctrico, en este caso, la fuerza en cada instante se puede determinar por el campo en el que se encuentra la partícula $F = qE$, que puede  ser producido por una carga mayor $Q = \\frac{E r²}{k}$ o por un conductor eléctrico ( por ejemplo, una carga que pase a alguna distancia en el espacio $E = \\frac{\\lambda}{2 \\pi \\epsilon_0 r} $), por lo que la fuerza cambiará en función a la posición de la carga en ese instante.<br>\n",
    "1.  Graficar la energía cinética y potencial en función del tiempo utilizando un protón como partícula en movimiento\n",
    "2.  Calcular el trabajo realizado por la fuerza eléctrica ( como una integral ). Acumular los resultados."
   ]
  },
  {
   "cell_type": "markdown",
   "metadata": {},
   "source": [
    "### Ejercicio 5\n",
    "Finalmente simularemos un sistema masa resorte ideal.<br>\n",
    "La fuerza total para este sistema depende de la posición, suponiendo que tenemos una masa suspendida de un resorte, la fuerza que experimenta la masa en todo momento es \n",
    "\\begin{equation}\n",
    "F\\, = \\,m\\,g\\,-k\\,\\Delta x = m\\,a \n",
    "\\end{equation}\n",
    "Donde $\\Delta x $ es la extensión del resorte, que cambiará en cada momento en función  a la variable de estado posición, lo cual ocasionará un cambio en la fuerza, que a su vez cambiará la variable aceleración y así sucesivamente. <br>\n",
    "En esta clase de moimientos oscilatorios donde la energía debe conservarse, es recomendable utilizar el método de Cromer. <br>\n",
    "1.  Grafique las energías en función del tiempo para ambos métodos (Euler, y Euler-Cromer)\n"
   ]
  }
 ],
 "metadata": {
  "colab": {
   "authorship_tag": "ABX9TyN3r32KWds/BhzZfTgASLMg",
   "name": "Tp3 - Dai Dominikow.ipynb",
   "provenance": []
  },
  "kernelspec": {
   "display_name": "Python 3",
   "language": "python",
   "name": "python3"
  },
  "language_info": {
   "codemirror_mode": {
    "name": "ipython",
    "version": 3
   },
   "file_extension": ".py",
   "mimetype": "text/x-python",
   "name": "python",
   "nbconvert_exporter": "python",
   "pygments_lexer": "ipython3",
   "version": "3.11.2"
  }
 },
 "nbformat": 4,
 "nbformat_minor": 0
}
