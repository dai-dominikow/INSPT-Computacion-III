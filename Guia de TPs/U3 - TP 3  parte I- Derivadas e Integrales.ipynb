{
 "cells": [
  {
   "cell_type": "markdown",
   "metadata": {},
   "source": [
    "### TP 3, Computación III\n",
    "Carrera Física Aplicada, INSPT UTN<br>\n",
    "Daiana Dominikow. <br>\n",
    "\n",
    "## Derivadas\n",
    "### Ejercicio 1:\n",
    "Realizar una función def tiroVertical(t, y0,v0): que reciba un vector tiempo, la altura inicial, y la velocidad inicial, y devuelva un vector con las posiciones correspondientes. <br>\n",
    "Realizar un programa que grafique la posición en función del tiempo para un proyectil en caída libre que sale disparado de una altura inicial de 10m, con una rapidez inicial de\n",
    "18 m/s llamando a la función tiroVertical. <br>\n",
    "Estime numéricamente el tiempo de vuelo (es decir, con los datos calculados sin utilizar ningún método particular). <br>\n",
    "Estime la altura máxima alcanzada por el proyectil. Una vez realizada esta función de manera tradicional, utilice la función max.<br>\n",
    "Cree una función derivada (puede usar el método que desee) para calcular y a continuación plotear la velocidad del proyectil en funcion al tiempo.<br>\n",
    "Calcule numéricamente la aceleración del móvil utilizando la misma derivada numérica que programó antes."
   ]
  },
  {
   "cell_type": "markdown",
   "metadata": {},
   "source": [
    "### Ejercicio 2\n",
    "Se mide el desplazamiento de un móvil en tiro vertical y se encuentra que responde a esta función matemática\n",
    "$y=85.2-75.2e^{(\\frac{-t}{2})}-19.6t$\n",
    "Realizar una función que determine las posiciones en función del tiempo.<br>\n",
    "Obtener la velocidad y la aceleración, y graficar en la misma ventana $y(t)$, $v(t)$ y $a(t)$ para este movimiento y para los valores calculados el programa que realizó en los puntos anteriores.<br>"
   ]
  },
  {
   "cell_type": "markdown",
   "metadata": {},
   "source": [
    "##    Integrales\n",
    "### Ejercicio 1: método de los rectángulos\n",
    "Realice una función que resuelva integrales numéricas. Ejecutarla sobre la función v(t)\n",
    "calculada en el primer ejercicio de manera que calcule  \n",
    "$\\int_{0}^{t_v} v(t) dt$\n",
    "siendo el $t_v$ el tiempo de vuelo total. <br>\n",
    "Esta integral representa la distancia de vuelo."
   ]
  },
  {
   "cell_type": "markdown",
   "metadata": {},
   "source": [
    "### Ejercicio 2\n",
    "Supongamos tenemos una fuerza aplicada en una dimensión en un desplazamiento $\\Delta x = 1.6cm$ de tal forma que $F(x) = -x⁴ -3x² + 10x -3$ donde $x$ está en cm.<br>\n",
    "1.  Determinar analítica y numéricamente el trabajo realizado por la fuerza sabiendo que $W = \\int_{0}^{1.6}F(x)dx$"
   ]
  }
 ],
 "metadata": {
  "colab": {
   "authorship_tag": "ABX9TyN3r32KWds/BhzZfTgASLMg",
   "name": "Tp3 - Dai Dominikow.ipynb",
   "provenance": []
  },
  "kernelspec": {
   "display_name": "Python 3",
   "language": "python",
   "name": "python3"
  },
  "language_info": {
   "codemirror_mode": {
    "name": "ipython",
    "version": 3
   },
   "file_extension": ".py",
   "mimetype": "text/x-python",
   "name": "python",
   "nbconvert_exporter": "python",
   "pygments_lexer": "ipython3",
   "version": "3.11.2"
  }
 },
 "nbformat": 4,
 "nbformat_minor": 0
}
