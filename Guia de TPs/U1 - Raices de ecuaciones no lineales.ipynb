{
 "cells": [
  {
   "cell_type": "markdown",
   "metadata": {},
   "source": [
    "1) Hallar la porción d de una esfera de radio $r=10cm$ y densidad $\\rho=0,638 \\frac{g}/{cm^3}​ $​ que queda sumergida en agua de manera estable.<br>\n",
    "El modelo matemático es\n",
    "$\\frac{\\pi(d^3​ ​-3d^2​r+4r^3​\\rho )}{3} = 0$\n"
   ]
  },
  {
   "cell_type": "markdown",
   "metadata": {},
   "source": [
    "2) Cinemática elegante: Un tiro vertical a baja velocidad considerando la viscosidad del aire puede modelarse con la ecuación horaria (considerando $C=\\frac{m}{\\beta}$ siendo $\\beta$ el coeficiente que multiplica la velocidad en la ecuación $F_v=\\beta v$ para la fuerza de arrastre). Siendo $C=2s$, la altura inicial $h=10m$ y la velocidad de lanzamiento $18 \\frac{m}{s}$, determinar el tiempo de vuelo.<br>\n",
    "$h = h_0 + (Cv_0 + C^{2} g)(1 − e^{\\frac{−t}{C}}) − gCt$"
   ]
  }
 ],
 "metadata": {
  "kernelspec": {
   "display_name": "base",
   "language": "python",
   "name": "python3"
  },
  "language_info": {
   "codemirror_mode": {
    "name": "ipython",
    "version": 3
   },
   "file_extension": ".py",
   "mimetype": "text/x-python",
   "name": "python",
   "nbconvert_exporter": "python",
   "pygments_lexer": "ipython3",
   "version": "3.10.9"
  }
 },
 "nbformat": 4,
 "nbformat_minor": 2
}
